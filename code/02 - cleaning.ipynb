{
 "cells": [
  {
   "cell_type": "markdown",
   "id": "d900f031-824a-496c-a0fd-2b2a9412fa84",
   "metadata": {},
   "source": [
    "# Imports:"
   ]
  },
  {
   "cell_type": "code",
   "execution_count": 1,
   "id": "1a9feac7-5b4c-43d5-8072-a51c7f21425c",
   "metadata": {
    "tags": []
   },
   "outputs": [],
   "source": [
    "import numpy as np\n",
    "import pandas as pd"
   ]
  },
  {
   "cell_type": "markdown",
   "id": "ecc05618-083a-454d-84a6-46325b8c6d6b",
   "metadata": {},
   "source": [
    "# Cleaning _readwithme_"
   ]
  },
  {
   "cell_type": "code",
   "execution_count": 3,
   "id": "d7b5e7af-2ce2-4174-b872-28cbfc02b752",
   "metadata": {
    "tags": []
   },
   "outputs": [],
   "source": [
    "readwithme = pd.read_csv('../data/readwithme_posts.csv')"
   ]
  },
  {
   "cell_type": "code",
   "execution_count": 4,
   "id": "e58b008b-6fd3-4826-94e9-00445a13fd00",
   "metadata": {
    "tags": []
   },
   "outputs": [
    {
     "data": {
      "text/html": [
       "<div>\n",
       "<style scoped>\n",
       "    .dataframe tbody tr th:only-of-type {\n",
       "        vertical-align: middle;\n",
       "    }\n",
       "\n",
       "    .dataframe tbody tr th {\n",
       "        vertical-align: top;\n",
       "    }\n",
       "\n",
       "    .dataframe thead th {\n",
       "        text-align: right;\n",
       "    }\n",
       "</style>\n",
       "<table border=\"1\" class=\"dataframe\">\n",
       "  <thead>\n",
       "    <tr style=\"text-align: right;\">\n",
       "      <th></th>\n",
       "      <th>created_utc</th>\n",
       "      <th>title</th>\n",
       "      <th>self_text</th>\n",
       "      <th>subreddit</th>\n",
       "    </tr>\n",
       "  </thead>\n",
       "  <tbody>\n",
       "    <tr>\n",
       "      <th>0</th>\n",
       "      <td>1.697488e+09</td>\n",
       "      <td>My writting journey</td>\n",
       "      <td>Hi everyone. I just started my writting journe...</td>\n",
       "      <td>readwithme</td>\n",
       "    </tr>\n",
       "    <tr>\n",
       "      <th>1</th>\n",
       "      <td>1.697205e+09</td>\n",
       "      <td>One article a day: hard to believe I've stuck ...</td>\n",
       "      <td>NaN</td>\n",
       "      <td>readwithme</td>\n",
       "    </tr>\n",
       "    <tr>\n",
       "      <th>2</th>\n",
       "      <td>1.697131e+09</td>\n",
       "      <td>Dr. Seuss- Read Aloud</td>\n",
       "      <td>NaN</td>\n",
       "      <td>readwithme</td>\n",
       "    </tr>\n",
       "    <tr>\n",
       "      <th>3</th>\n",
       "      <td>1.697083e+09</td>\n",
       "      <td>A Fairy Friend - Read Aloud</td>\n",
       "      <td>NaN</td>\n",
       "      <td>readwithme</td>\n",
       "    </tr>\n",
       "    <tr>\n",
       "      <th>4</th>\n",
       "      <td>1.697065e+09</td>\n",
       "      <td>Press Release</td>\n",
       "      <td>Dive into a Turbulent Tale of Survival with De...</td>\n",
       "      <td>readwithme</td>\n",
       "    </tr>\n",
       "  </tbody>\n",
       "</table>\n",
       "</div>"
      ],
      "text/plain": [
       "    created_utc                                              title  \\\n",
       "0  1.697488e+09                                My writting journey   \n",
       "1  1.697205e+09  One article a day: hard to believe I've stuck ...   \n",
       "2  1.697131e+09                              Dr. Seuss- Read Aloud   \n",
       "3  1.697083e+09                        A Fairy Friend - Read Aloud   \n",
       "4  1.697065e+09                                      Press Release   \n",
       "\n",
       "                                           self_text   subreddit  \n",
       "0  Hi everyone. I just started my writting journe...  readwithme  \n",
       "1                                                NaN  readwithme  \n",
       "2                                                NaN  readwithme  \n",
       "3                                                NaN  readwithme  \n",
       "4  Dive into a Turbulent Tale of Survival with De...  readwithme  "
      ]
     },
     "execution_count": 4,
     "metadata": {},
     "output_type": "execute_result"
    }
   ],
   "source": [
    "readwithme.head()"
   ]
  },
  {
   "cell_type": "code",
   "execution_count": 5,
   "id": "93257634-8d95-4023-b799-88f0a3ba6275",
   "metadata": {
    "tags": []
   },
   "outputs": [
    {
     "data": {
      "text/plain": [
       "(2212, 4)"
      ]
     },
     "execution_count": 5,
     "metadata": {},
     "output_type": "execute_result"
    }
   ],
   "source": [
    "readwithme.shape"
   ]
  },
  {
   "cell_type": "code",
   "execution_count": 7,
   "id": "7c628986-d696-4e34-ae52-c1010cfd31d4",
   "metadata": {
    "tags": []
   },
   "outputs": [
    {
     "data": {
      "text/plain": [
       "created_utc       0\n",
       "title             0\n",
       "self_text      1310\n",
       "subreddit         0\n",
       "dtype: int64"
      ]
     },
     "execution_count": 7,
     "metadata": {},
     "output_type": "execute_result"
    }
   ],
   "source": [
    "readwithme.isna().sum()"
   ]
  },
  {
   "cell_type": "code",
   "execution_count": null,
   "id": "d273413e-18ad-4c23-9858-849e1847eb3d",
   "metadata": {},
   "outputs": [],
   "source": []
  }
 ],
 "metadata": {
  "kernelspec": {
   "display_name": "Python 3 (ipykernel)",
   "language": "python",
   "name": "python3"
  },
  "language_info": {
   "codemirror_mode": {
    "name": "ipython",
    "version": 3
   },
   "file_extension": ".py",
   "mimetype": "text/x-python",
   "name": "python",
   "nbconvert_exporter": "python",
   "pygments_lexer": "ipython3",
   "version": "3.11.4"
  }
 },
 "nbformat": 4,
 "nbformat_minor": 5
}
