{
 "cells": [
  {
   "cell_type": "markdown",
   "id": "d900f031-824a-496c-a0fd-2b2a9412fa84",
   "metadata": {},
   "source": [
    "# Imports:"
   ]
  },
  {
   "cell_type": "code",
   "execution_count": 1,
   "id": "1a9feac7-5b4c-43d5-8072-a51c7f21425c",
   "metadata": {
    "tags": []
   },
   "outputs": [],
   "source": [
    "import numpy as np\n",
    "import pandas as pd"
   ]
  },
  {
   "cell_type": "markdown",
   "id": "ecc05618-083a-454d-84a6-46325b8c6d6b",
   "metadata": {},
   "source": [
    "# Cleaning _TeacherReality_"
   ]
  },
  {
   "cell_type": "code",
   "execution_count": 49,
   "id": "d7b5e7af-2ce2-4174-b872-28cbfc02b752",
   "metadata": {
    "tags": []
   },
   "outputs": [],
   "source": [
    "teacher_reality = pd.read_csv('../data/teacherreality_posts.csv')"
   ]
  },
  {
   "cell_type": "code",
   "execution_count": 50,
   "id": "e58b008b-6fd3-4826-94e9-00445a13fd00",
   "metadata": {
    "tags": []
   },
   "outputs": [
    {
     "data": {
      "text/html": [
       "<div>\n",
       "<style scoped>\n",
       "    .dataframe tbody tr th:only-of-type {\n",
       "        vertical-align: middle;\n",
       "    }\n",
       "\n",
       "    .dataframe tbody tr th {\n",
       "        vertical-align: top;\n",
       "    }\n",
       "\n",
       "    .dataframe thead th {\n",
       "        text-align: right;\n",
       "    }\n",
       "</style>\n",
       "<table border=\"1\" class=\"dataframe\">\n",
       "  <thead>\n",
       "    <tr style=\"text-align: right;\">\n",
       "      <th></th>\n",
       "      <th>created_utc</th>\n",
       "      <th>title</th>\n",
       "      <th>self_text</th>\n",
       "      <th>subreddit</th>\n",
       "    </tr>\n",
       "  </thead>\n",
       "  <tbody>\n",
       "    <tr>\n",
       "      <th>0</th>\n",
       "      <td>1.643107e+09</td>\n",
       "      <td>How to escape from Teaching to Tech: an easy g...</td>\n",
       "      <td>##Why?\\n\\n- High employment\\n- Huge salaries\\n...</td>\n",
       "      <td>TeacherReality</td>\n",
       "    </tr>\n",
       "    <tr>\n",
       "      <th>1</th>\n",
       "      <td>1.697485e+09</td>\n",
       "      <td>New Law in CA - SB 274</td>\n",
       "      <td>NaN</td>\n",
       "      <td>TeacherReality</td>\n",
       "    </tr>\n",
       "    <tr>\n",
       "      <th>2</th>\n",
       "      <td>1.697400e+09</td>\n",
       "      <td>Teachers, Immorality, and Getting Fired?</td>\n",
       "      <td>Have you ever known a teacher who was fired ov...</td>\n",
       "      <td>TeacherReality</td>\n",
       "    </tr>\n",
       "    <tr>\n",
       "      <th>3</th>\n",
       "      <td>1.697413e+09</td>\n",
       "      <td>Parent reports me (20F) to owner of the building</td>\n",
       "      <td>NaN</td>\n",
       "      <td>TeacherReality</td>\n",
       "    </tr>\n",
       "    <tr>\n",
       "      <th>4</th>\n",
       "      <td>1.697413e+09</td>\n",
       "      <td>9th graders made the sub cry</td>\n",
       "      <td>NaN</td>\n",
       "      <td>TeacherReality</td>\n",
       "    </tr>\n",
       "  </tbody>\n",
       "</table>\n",
       "</div>"
      ],
      "text/plain": [
       "    created_utc                                              title  \\\n",
       "0  1.643107e+09  How to escape from Teaching to Tech: an easy g...   \n",
       "1  1.697485e+09                             New Law in CA - SB 274   \n",
       "2  1.697400e+09           Teachers, Immorality, and Getting Fired?   \n",
       "3  1.697413e+09   Parent reports me (20F) to owner of the building   \n",
       "4  1.697413e+09                       9th graders made the sub cry   \n",
       "\n",
       "                                           self_text       subreddit  \n",
       "0  ##Why?\\n\\n- High employment\\n- Huge salaries\\n...  TeacherReality  \n",
       "1                                                NaN  TeacherReality  \n",
       "2  Have you ever known a teacher who was fired ov...  TeacherReality  \n",
       "3                                                NaN  TeacherReality  \n",
       "4                                                NaN  TeacherReality  "
      ]
     },
     "execution_count": 50,
     "metadata": {},
     "output_type": "execute_result"
    }
   ],
   "source": [
    "teacher_reality.head()"
   ]
  },
  {
   "cell_type": "code",
   "execution_count": 51,
   "id": "93257634-8d95-4023-b799-88f0a3ba6275",
   "metadata": {
    "tags": []
   },
   "outputs": [
    {
     "data": {
      "text/plain": [
       "(15814, 4)"
      ]
     },
     "execution_count": 51,
     "metadata": {},
     "output_type": "execute_result"
    }
   ],
   "source": [
    "teacher_reality.shape"
   ]
  },
  {
   "cell_type": "code",
   "execution_count": 52,
   "id": "7c628986-d696-4e34-ae52-c1010cfd31d4",
   "metadata": {
    "tags": []
   },
   "outputs": [
    {
     "data": {
      "text/plain": [
       "created_utc        0\n",
       "title              0\n",
       "self_text      11158\n",
       "subreddit          0\n",
       "dtype: int64"
      ]
     },
     "execution_count": 52,
     "metadata": {},
     "output_type": "execute_result"
    }
   ],
   "source": [
    "teacher_reality.isna().sum()"
   ]
  },
  {
   "cell_type": "markdown",
   "id": "752b8ebf-2df6-4743-a2f0-d60d9494b9bd",
   "metadata": {},
   "source": [
    "> Get rid of all rows that include missings. This typically means there is a video or photo attached in the self_text."
   ]
  },
  {
   "cell_type": "code",
   "execution_count": 53,
   "id": "d273413e-18ad-4c23-9858-849e1847eb3d",
   "metadata": {},
   "outputs": [],
   "source": [
    "teacher_reality.dropna(inplace=True)"
   ]
  },
  {
   "cell_type": "code",
   "execution_count": 54,
   "id": "93c6f711-7f48-472b-a407-ef04dd6f0803",
   "metadata": {
    "tags": []
   },
   "outputs": [
    {
     "data": {
      "text/plain": [
       "created_utc    0\n",
       "title          0\n",
       "self_text      0\n",
       "subreddit      0\n",
       "dtype: int64"
      ]
     },
     "execution_count": 54,
     "metadata": {},
     "output_type": "execute_result"
    }
   ],
   "source": [
    "teacher_reality.isna().sum()"
   ]
  },
  {
   "cell_type": "code",
   "execution_count": 55,
   "id": "31e50f41-9ca2-4b99-b12c-c4396b21401d",
   "metadata": {
    "tags": []
   },
   "outputs": [
    {
     "data": {
      "text/plain": [
       "(4656, 4)"
      ]
     },
     "execution_count": 55,
     "metadata": {},
     "output_type": "execute_result"
    }
   ],
   "source": [
    "teacher_reality.shape"
   ]
  },
  {
   "cell_type": "code",
   "execution_count": 56,
   "id": "b5014f75-da72-4357-8c16-40aede43534f",
   "metadata": {
    "tags": []
   },
   "outputs": [],
   "source": [
    "teacher_reality.to_csv('cleaned_teacherreality_posts.csv', index=False)"
   ]
  },
  {
   "cell_type": "markdown",
   "id": "fb40e414-656d-4a4e-a846-6e6d26ba948d",
   "metadata": {},
   "source": [
    "# Cleaning _mentalhealth_"
   ]
  },
  {
   "cell_type": "code",
   "execution_count": 13,
   "id": "c002afee-5546-46ab-9d02-3d99e3b62e59",
   "metadata": {
    "tags": []
   },
   "outputs": [],
   "source": [
    "mental_health = pd.read_csv('../data/mentalhealth_posts.csv')"
   ]
  },
  {
   "cell_type": "code",
   "execution_count": 14,
   "id": "d2229959-7db7-4cad-8f13-f95f2f38f547",
   "metadata": {
    "tags": []
   },
   "outputs": [
    {
     "data": {
      "text/plain": [
       "(4985, 4)"
      ]
     },
     "execution_count": 14,
     "metadata": {},
     "output_type": "execute_result"
    }
   ],
   "source": [
    "mental_health.shape"
   ]
  },
  {
   "cell_type": "code",
   "execution_count": 15,
   "id": "1e14f6f5-0253-4db5-8738-fd439cdebed7",
   "metadata": {
    "tags": []
   },
   "outputs": [
    {
     "data": {
      "text/plain": [
       "created_utc     0\n",
       "title           0\n",
       "self_text      20\n",
       "subreddit       0\n",
       "dtype: int64"
      ]
     },
     "execution_count": 15,
     "metadata": {},
     "output_type": "execute_result"
    }
   ],
   "source": [
    "mental_health.isna().sum()"
   ]
  },
  {
   "cell_type": "code",
   "execution_count": 25,
   "id": "06eb8884-0aa8-4665-966d-3429ce632721",
   "metadata": {
    "tags": []
   },
   "outputs": [],
   "source": [
    "mental_health.dropna(inplace=True)"
   ]
  },
  {
   "cell_type": "code",
   "execution_count": 26,
   "id": "4c512a30-c305-43d4-b8da-c58054050ebe",
   "metadata": {
    "tags": []
   },
   "outputs": [
    {
     "data": {
      "text/plain": [
       "created_utc    0\n",
       "title          0\n",
       "self_text      0\n",
       "subreddit      0\n",
       "dtype: int64"
      ]
     },
     "execution_count": 26,
     "metadata": {},
     "output_type": "execute_result"
    }
   ],
   "source": [
    "mental_health.isna().sum()"
   ]
  },
  {
   "cell_type": "code",
   "execution_count": 27,
   "id": "d308bf1e-eb9a-4ecd-b7c9-8d68985b7f03",
   "metadata": {
    "tags": []
   },
   "outputs": [
    {
     "data": {
      "text/plain": [
       "(4965, 4)"
      ]
     },
     "execution_count": 27,
     "metadata": {},
     "output_type": "execute_result"
    }
   ],
   "source": [
    "mental_health.shape"
   ]
  },
  {
   "cell_type": "markdown",
   "id": "372728e4-dbcb-49b3-80fc-408a24608cc7",
   "metadata": {},
   "source": [
    "> This data set has much more data than teacher_reality (after dropna I was only left with 1500 posts). I am going to gather more data for the previous data set and repeat this process. I want them to have close to equal data inputs"
   ]
  },
  {
   "cell_type": "code",
   "execution_count": 57,
   "id": "b94803b9-0829-438d-86a2-d76f90f5dc93",
   "metadata": {
    "tags": []
   },
   "outputs": [],
   "source": [
    "mental_health.to_csv('cleaned_mentalhealth_posts.csv', index=False)"
   ]
  },
  {
   "cell_type": "code",
   "execution_count": null,
   "id": "f03042fc-ca8d-49de-99ee-886e5bece15c",
   "metadata": {},
   "outputs": [],
   "source": []
  }
 ],
 "metadata": {
  "kernelspec": {
   "display_name": "Python 3 (ipykernel)",
   "language": "python",
   "name": "python3"
  },
  "language_info": {
   "codemirror_mode": {
    "name": "ipython",
    "version": 3
   },
   "file_extension": ".py",
   "mimetype": "text/x-python",
   "name": "python",
   "nbconvert_exporter": "python",
   "pygments_lexer": "ipython3",
   "version": "3.11.4"
  }
 },
 "nbformat": 4,
 "nbformat_minor": 5
}
