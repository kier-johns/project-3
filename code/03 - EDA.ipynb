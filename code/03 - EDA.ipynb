{
 "cells": [
  {
   "cell_type": "markdown",
   "id": "f0baab4f-eeef-46b1-9d1a-670001f5d894",
   "metadata": {},
   "source": [
    "# Imports:"
   ]
  },
  {
   "cell_type": "code",
   "execution_count": 1,
   "id": "15922cc7-cd2c-4955-af02-a45add2712cc",
   "metadata": {
    "tags": []
   },
   "outputs": [],
   "source": [
    "import numpy as np\n",
    "import pandas as pd\n",
    "import matplotlib.pyplot as plt \n",
    "import seaborn as sns"
   ]
  },
  {
   "cell_type": "markdown",
   "id": "4ef07b10-3822-44c4-a2fa-0f733458f57d",
   "metadata": {},
   "source": [
    "**Read in the data**"
   ]
  },
  {
   "cell_type": "code",
   "execution_count": 2,
   "id": "b5e6f43e-b225-4591-ae5b-372ce9f80ad6",
   "metadata": {
    "tags": []
   },
   "outputs": [],
   "source": [
    "teacher_reality = pd.read_csv('../data/cleaned_teacherreality_posts.csv')"
   ]
  },
  {
   "cell_type": "code",
   "execution_count": 3,
   "id": "df4730e5-42e6-49a1-8fbe-62ba9e8772b9",
   "metadata": {
    "tags": []
   },
   "outputs": [
    {
     "data": {
      "text/html": [
       "<div>\n",
       "<style scoped>\n",
       "    .dataframe tbody tr th:only-of-type {\n",
       "        vertical-align: middle;\n",
       "    }\n",
       "\n",
       "    .dataframe tbody tr th {\n",
       "        vertical-align: top;\n",
       "    }\n",
       "\n",
       "    .dataframe thead th {\n",
       "        text-align: right;\n",
       "    }\n",
       "</style>\n",
       "<table border=\"1\" class=\"dataframe\">\n",
       "  <thead>\n",
       "    <tr style=\"text-align: right;\">\n",
       "      <th></th>\n",
       "      <th>created_utc</th>\n",
       "      <th>title</th>\n",
       "      <th>self_text</th>\n",
       "      <th>subreddit</th>\n",
       "    </tr>\n",
       "  </thead>\n",
       "  <tbody>\n",
       "    <tr>\n",
       "      <th>0</th>\n",
       "      <td>1.643107e+09</td>\n",
       "      <td>How to escape from Teaching to Tech: an easy g...</td>\n",
       "      <td>##Why?\\n\\n- High employment\\n- Huge salaries\\n...</td>\n",
       "      <td>TeacherReality</td>\n",
       "    </tr>\n",
       "    <tr>\n",
       "      <th>1</th>\n",
       "      <td>1.697400e+09</td>\n",
       "      <td>Teachers, Immorality, and Getting Fired?</td>\n",
       "      <td>Have you ever known a teacher who was fired ov...</td>\n",
       "      <td>TeacherReality</td>\n",
       "    </tr>\n",
       "    <tr>\n",
       "      <th>2</th>\n",
       "      <td>1.697257e+09</td>\n",
       "      <td>My age is impacting my authority?</td>\n",
       "      <td>Hello! I’m a 20yr old female dance teacher who...</td>\n",
       "      <td>TeacherReality</td>\n",
       "    </tr>\n",
       "    <tr>\n",
       "      <th>3</th>\n",
       "      <td>1.696288e+09</td>\n",
       "      <td>8th graders throwing pencils every day</td>\n",
       "      <td>Hi. I'm a middle school art teacher , and alth...</td>\n",
       "      <td>TeacherReality</td>\n",
       "    </tr>\n",
       "    <tr>\n",
       "      <th>4</th>\n",
       "      <td>1.695876e+09</td>\n",
       "      <td>Tonight I was scolded by a parent for telling ...</td>\n",
       "      <td>I am a high school music teacher who often tak...</td>\n",
       "      <td>TeacherReality</td>\n",
       "    </tr>\n",
       "  </tbody>\n",
       "</table>\n",
       "</div>"
      ],
      "text/plain": [
       "    created_utc                                              title  \\\n",
       "0  1.643107e+09  How to escape from Teaching to Tech: an easy g...   \n",
       "1  1.697400e+09           Teachers, Immorality, and Getting Fired?   \n",
       "2  1.697257e+09                  My age is impacting my authority?   \n",
       "3  1.696288e+09             8th graders throwing pencils every day   \n",
       "4  1.695876e+09  Tonight I was scolded by a parent for telling ...   \n",
       "\n",
       "                                           self_text       subreddit  \n",
       "0  ##Why?\\n\\n- High employment\\n- Huge salaries\\n...  TeacherReality  \n",
       "1  Have you ever known a teacher who was fired ov...  TeacherReality  \n",
       "2  Hello! I’m a 20yr old female dance teacher who...  TeacherReality  \n",
       "3  Hi. I'm a middle school art teacher , and alth...  TeacherReality  \n",
       "4  I am a high school music teacher who often tak...  TeacherReality  "
      ]
     },
     "execution_count": 3,
     "metadata": {},
     "output_type": "execute_result"
    }
   ],
   "source": [
    "teacher_reality.head()"
   ]
  },
  {
   "cell_type": "code",
   "execution_count": 4,
   "id": "c54ce307-759c-4824-b6aa-360b6aebb7dd",
   "metadata": {
    "tags": []
   },
   "outputs": [
    {
     "data": {
      "text/plain": [
       "(4656, 4)"
      ]
     },
     "execution_count": 4,
     "metadata": {},
     "output_type": "execute_result"
    }
   ],
   "source": [
    "teacher_reality.shape"
   ]
  },
  {
   "cell_type": "code",
   "execution_count": 5,
   "id": "b219b526-8b6c-47d4-a989-2411ab29f62b",
   "metadata": {
    "tags": []
   },
   "outputs": [],
   "source": [
    "mental_health = pd.read_csv('../data/cleaned_mentalhealth_posts.csv')"
   ]
  },
  {
   "cell_type": "code",
   "execution_count": 6,
   "id": "3165c549-df10-467f-a6c0-466d8435a77e",
   "metadata": {
    "tags": []
   },
   "outputs": [
    {
     "data": {
      "text/html": [
       "<div>\n",
       "<style scoped>\n",
       "    .dataframe tbody tr th:only-of-type {\n",
       "        vertical-align: middle;\n",
       "    }\n",
       "\n",
       "    .dataframe tbody tr th {\n",
       "        vertical-align: top;\n",
       "    }\n",
       "\n",
       "    .dataframe thead th {\n",
       "        text-align: right;\n",
       "    }\n",
       "</style>\n",
       "<table border=\"1\" class=\"dataframe\">\n",
       "  <thead>\n",
       "    <tr style=\"text-align: right;\">\n",
       "      <th></th>\n",
       "      <th>created_utc</th>\n",
       "      <th>title</th>\n",
       "      <th>self_text</th>\n",
       "      <th>subreddit</th>\n",
       "    </tr>\n",
       "  </thead>\n",
       "  <tbody>\n",
       "    <tr>\n",
       "      <th>0</th>\n",
       "      <td>1.697465e+09</td>\n",
       "      <td>I DID IT!!!</td>\n",
       "      <td>I DID IT!! I COMMUNICATED MY FEELINGS IN A HEA...</td>\n",
       "      <td>mentalhealth</td>\n",
       "    </tr>\n",
       "    <tr>\n",
       "      <th>1</th>\n",
       "      <td>1.697444e+09</td>\n",
       "      <td>Can porn be healthy?</td>\n",
       "      <td>18M here\\nSo my question is whether porn consu...</td>\n",
       "      <td>mentalhealth</td>\n",
       "    </tr>\n",
       "    <tr>\n",
       "      <th>2</th>\n",
       "      <td>1.697469e+09</td>\n",
       "      <td>what are things that get you emotionally high?</td>\n",
       "      <td>something that got me so emotionally high was ...</td>\n",
       "      <td>mentalhealth</td>\n",
       "    </tr>\n",
       "    <tr>\n",
       "      <th>3</th>\n",
       "      <td>1.697480e+09</td>\n",
       "      <td>I constantly think people dislike me or hate m...</td>\n",
       "      <td>Just the title. I see myself doing it but it's...</td>\n",
       "      <td>mentalhealth</td>\n",
       "    </tr>\n",
       "    <tr>\n",
       "      <th>4</th>\n",
       "      <td>1.697485e+09</td>\n",
       "      <td>How do you overcome depression if the environm...</td>\n",
       "      <td>I live in a small town of 42.000 people and th...</td>\n",
       "      <td>mentalhealth</td>\n",
       "    </tr>\n",
       "  </tbody>\n",
       "</table>\n",
       "</div>"
      ],
      "text/plain": [
       "    created_utc                                              title  \\\n",
       "0  1.697465e+09                                        I DID IT!!!   \n",
       "1  1.697444e+09                               Can porn be healthy?   \n",
       "2  1.697469e+09     what are things that get you emotionally high?   \n",
       "3  1.697480e+09  I constantly think people dislike me or hate m...   \n",
       "4  1.697485e+09  How do you overcome depression if the environm...   \n",
       "\n",
       "                                           self_text     subreddit  \n",
       "0  I DID IT!! I COMMUNICATED MY FEELINGS IN A HEA...  mentalhealth  \n",
       "1  18M here\\nSo my question is whether porn consu...  mentalhealth  \n",
       "2  something that got me so emotionally high was ...  mentalhealth  \n",
       "3  Just the title. I see myself doing it but it's...  mentalhealth  \n",
       "4  I live in a small town of 42.000 people and th...  mentalhealth  "
      ]
     },
     "execution_count": 6,
     "metadata": {},
     "output_type": "execute_result"
    }
   ],
   "source": [
    "mental_health.head()"
   ]
  },
  {
   "cell_type": "code",
   "execution_count": 7,
   "id": "3c4382c8-24e0-4e21-b0e3-6221f2c298bc",
   "metadata": {
    "tags": []
   },
   "outputs": [
    {
     "data": {
      "text/plain": [
       "(4965, 4)"
      ]
     },
     "execution_count": 7,
     "metadata": {},
     "output_type": "execute_result"
    }
   ],
   "source": [
    "mental_health.shape"
   ]
  },
  {
   "cell_type": "markdown",
   "id": "6b5e0955-a56e-4e6e-b4dd-e2c243f25606",
   "metadata": {},
   "source": [
    "# Compare Title & Post Lengths"
   ]
  },
  {
   "cell_type": "markdown",
   "id": "a364f16c-6a43-45a3-a0a3-79aab32ae22d",
   "metadata": {},
   "source": [
    "**Teacher Reality**"
   ]
  },
  {
   "cell_type": "code",
   "execution_count": 9,
   "id": "3544db47-a66a-40fd-bb17-0c547631f520",
   "metadata": {
    "tags": []
   },
   "outputs": [],
   "source": [
    "teacher_reality_title_and_text = teacher_reality.drop(columns= ['created_utc', 'subreddit'])"
   ]
  },
  {
   "cell_type": "code",
   "execution_count": 10,
   "id": "066f724f-2a93-4a86-95bb-e5847e117f59",
   "metadata": {
    "tags": []
   },
   "outputs": [
    {
     "data": {
      "text/html": [
       "<div>\n",
       "<style scoped>\n",
       "    .dataframe tbody tr th:only-of-type {\n",
       "        vertical-align: middle;\n",
       "    }\n",
       "\n",
       "    .dataframe tbody tr th {\n",
       "        vertical-align: top;\n",
       "    }\n",
       "\n",
       "    .dataframe thead th {\n",
       "        text-align: right;\n",
       "    }\n",
       "</style>\n",
       "<table border=\"1\" class=\"dataframe\">\n",
       "  <thead>\n",
       "    <tr style=\"text-align: right;\">\n",
       "      <th></th>\n",
       "      <th>title</th>\n",
       "      <th>self_text</th>\n",
       "      <th>title_length</th>\n",
       "      <th>title_word_count</th>\n",
       "      <th>text_length</th>\n",
       "      <th>text_word_count</th>\n",
       "    </tr>\n",
       "  </thead>\n",
       "  <tbody>\n",
       "    <tr>\n",
       "      <th>0</th>\n",
       "      <td>How to escape from Teaching to Tech: an easy g...</td>\n",
       "      <td>##Why?\\n\\n- High employment\\n- Huge salaries\\n...</td>\n",
       "      <td>50</td>\n",
       "      <td>10</td>\n",
       "      <td>5088</td>\n",
       "      <td>853</td>\n",
       "    </tr>\n",
       "    <tr>\n",
       "      <th>1</th>\n",
       "      <td>Teachers, Immorality, and Getting Fired?</td>\n",
       "      <td>Have you ever known a teacher who was fired ov...</td>\n",
       "      <td>40</td>\n",
       "      <td>5</td>\n",
       "      <td>524</td>\n",
       "      <td>92</td>\n",
       "    </tr>\n",
       "    <tr>\n",
       "      <th>2</th>\n",
       "      <td>My age is impacting my authority?</td>\n",
       "      <td>Hello! I’m a 20yr old female dance teacher who...</td>\n",
       "      <td>33</td>\n",
       "      <td>6</td>\n",
       "      <td>1652</td>\n",
       "      <td>318</td>\n",
       "    </tr>\n",
       "    <tr>\n",
       "      <th>3</th>\n",
       "      <td>8th graders throwing pencils every day</td>\n",
       "      <td>Hi. I'm a middle school art teacher , and alth...</td>\n",
       "      <td>38</td>\n",
       "      <td>6</td>\n",
       "      <td>882</td>\n",
       "      <td>167</td>\n",
       "    </tr>\n",
       "    <tr>\n",
       "      <th>4</th>\n",
       "      <td>Tonight I was scolded by a parent for telling ...</td>\n",
       "      <td>I am a high school music teacher who often tak...</td>\n",
       "      <td>70</td>\n",
       "      <td>14</td>\n",
       "      <td>1032</td>\n",
       "      <td>191</td>\n",
       "    </tr>\n",
       "  </tbody>\n",
       "</table>\n",
       "</div>"
      ],
      "text/plain": [
       "                                               title  \\\n",
       "0  How to escape from Teaching to Tech: an easy g...   \n",
       "1           Teachers, Immorality, and Getting Fired?   \n",
       "2                  My age is impacting my authority?   \n",
       "3             8th graders throwing pencils every day   \n",
       "4  Tonight I was scolded by a parent for telling ...   \n",
       "\n",
       "                                           self_text  title_length  \\\n",
       "0  ##Why?\\n\\n- High employment\\n- Huge salaries\\n...            50   \n",
       "1  Have you ever known a teacher who was fired ov...            40   \n",
       "2  Hello! I’m a 20yr old female dance teacher who...            33   \n",
       "3  Hi. I'm a middle school art teacher , and alth...            38   \n",
       "4  I am a high school music teacher who often tak...            70   \n",
       "\n",
       "   title_word_count  text_length  text_word_count  \n",
       "0                10         5088              853  \n",
       "1                 5          524               92  \n",
       "2                 6         1652              318  \n",
       "3                 6          882              167  \n",
       "4                14         1032              191  "
      ]
     },
     "execution_count": 10,
     "metadata": {},
     "output_type": "execute_result"
    }
   ],
   "source": [
    "teacher_reality_title_and_text['title_length'] = teacher_reality_title_and_text['title'].apply(len)\n",
    "teacher_reality_title_and_text['title_word_count'] = teacher_reality_title_and_text['title'].str.split().str.len()\n",
    "\n",
    "teacher_reality_title_and_text['text_length'] = teacher_reality_title_and_text['self_text'].apply(len)\n",
    "teacher_reality_title_and_text['text_word_count'] = teacher_reality_title_and_text['self_text'].str.split().str.len()\n",
    "teacher_reality_title_and_text.head()"
   ]
  },
  {
   "cell_type": "markdown",
   "id": "260b1326-b961-4e9e-86b4-b462d2e147d4",
   "metadata": {},
   "source": [
    "**Let's take a look at the min and max titles by word count and by text count:**"
   ]
  },
  {
   "cell_type": "code",
   "execution_count": 11,
   "id": "e80fbae6-ca0a-45ce-b39b-68e8e7e4b820",
   "metadata": {
    "tags": []
   },
   "outputs": [
    {
     "data": {
      "text/html": [
       "<div>\n",
       "<style scoped>\n",
       "    .dataframe tbody tr th:only-of-type {\n",
       "        vertical-align: middle;\n",
       "    }\n",
       "\n",
       "    .dataframe tbody tr th {\n",
       "        vertical-align: top;\n",
       "    }\n",
       "\n",
       "    .dataframe thead th {\n",
       "        text-align: right;\n",
       "    }\n",
       "</style>\n",
       "<table border=\"1\" class=\"dataframe\">\n",
       "  <thead>\n",
       "    <tr style=\"text-align: right;\">\n",
       "      <th></th>\n",
       "      <th>title</th>\n",
       "      <th>self_text</th>\n",
       "      <th>title_length</th>\n",
       "      <th>title_word_count</th>\n",
       "      <th>text_length</th>\n",
       "      <th>text_word_count</th>\n",
       "    </tr>\n",
       "  </thead>\n",
       "  <tbody>\n",
       "    <tr>\n",
       "      <th>4483</th>\n",
       "      <td>Unions??</td>\n",
       "      <td>Hello fellow teachers,\\n\\nI have been reading ...</td>\n",
       "      <td>8</td>\n",
       "      <td>1</td>\n",
       "      <td>692</td>\n",
       "      <td>126</td>\n",
       "    </tr>\n",
       "    <tr>\n",
       "      <th>2092</th>\n",
       "      <td>Unions??</td>\n",
       "      <td>Hello fellow teachers,\\n\\nI have been reading ...</td>\n",
       "      <td>8</td>\n",
       "      <td>1</td>\n",
       "      <td>692</td>\n",
       "      <td>126</td>\n",
       "    </tr>\n",
       "    <tr>\n",
       "      <th>1531</th>\n",
       "      <td>Thanks!</td>\n",
       "      <td>This sub has grown so fast.  Pretty obvious di...</td>\n",
       "      <td>7</td>\n",
       "      <td>1</td>\n",
       "      <td>679</td>\n",
       "      <td>130</td>\n",
       "    </tr>\n",
       "    <tr>\n",
       "      <th>4592</th>\n",
       "      <td>Thanks!</td>\n",
       "      <td>This sub has grown so fast.  Pretty obvious di...</td>\n",
       "      <td>7</td>\n",
       "      <td>1</td>\n",
       "      <td>679</td>\n",
       "      <td>130</td>\n",
       "    </tr>\n",
       "    <tr>\n",
       "      <th>24</th>\n",
       "      <td>R/teachers</td>\n",
       "      <td>What happened to the teachers community? Sudde...</td>\n",
       "      <td>10</td>\n",
       "      <td>1</td>\n",
       "      <td>58</td>\n",
       "      <td>8</td>\n",
       "    </tr>\n",
       "  </tbody>\n",
       "</table>\n",
       "</div>"
      ],
      "text/plain": [
       "           title                                          self_text  \\\n",
       "4483    Unions??  Hello fellow teachers,\\n\\nI have been reading ...   \n",
       "2092    Unions??  Hello fellow teachers,\\n\\nI have been reading ...   \n",
       "1531     Thanks!  This sub has grown so fast.  Pretty obvious di...   \n",
       "4592     Thanks!  This sub has grown so fast.  Pretty obvious di...   \n",
       "24    R/teachers  What happened to the teachers community? Sudde...   \n",
       "\n",
       "      title_length  title_word_count  text_length  text_word_count  \n",
       "4483             8                 1          692              126  \n",
       "2092             8                 1          692              126  \n",
       "1531             7                 1          679              130  \n",
       "4592             7                 1          679              130  \n",
       "24              10                 1           58                8  "
      ]
     },
     "execution_count": 11,
     "metadata": {},
     "output_type": "execute_result"
    }
   ],
   "source": [
    "teacher_reality_title_and_text.sort_values(by='title_word_count').head()"
   ]
  },
  {
   "cell_type": "code",
   "execution_count": 12,
   "id": "a0bb255b-3449-4c52-86b3-e63521b1856b",
   "metadata": {
    "tags": []
   },
   "outputs": [
    {
     "data": {
      "text/html": [
       "<div>\n",
       "<style scoped>\n",
       "    .dataframe tbody tr th:only-of-type {\n",
       "        vertical-align: middle;\n",
       "    }\n",
       "\n",
       "    .dataframe tbody tr th {\n",
       "        vertical-align: top;\n",
       "    }\n",
       "\n",
       "    .dataframe thead th {\n",
       "        text-align: right;\n",
       "    }\n",
       "</style>\n",
       "<table border=\"1\" class=\"dataframe\">\n",
       "  <thead>\n",
       "    <tr style=\"text-align: right;\">\n",
       "      <th></th>\n",
       "      <th>title</th>\n",
       "      <th>self_text</th>\n",
       "      <th>title_length</th>\n",
       "      <th>title_word_count</th>\n",
       "      <th>text_length</th>\n",
       "      <th>text_word_count</th>\n",
       "    </tr>\n",
       "  </thead>\n",
       "  <tbody>\n",
       "    <tr>\n",
       "      <th>4479</th>\n",
       "      <td>I left in 2021 after seven years. I took a job...</td>\n",
       "      <td>Title pretty much says it all. I can’t imagine...</td>\n",
       "      <td>209</td>\n",
       "      <td>39</td>\n",
       "      <td>165</td>\n",
       "      <td>31</td>\n",
       "    </tr>\n",
       "    <tr>\n",
       "      <th>4142</th>\n",
       "      <td>I left in 2021 after seven years. I took a job...</td>\n",
       "      <td>Title pretty much says it all. I can’t imagine...</td>\n",
       "      <td>209</td>\n",
       "      <td>39</td>\n",
       "      <td>165</td>\n",
       "      <td>31</td>\n",
       "    </tr>\n",
       "    <tr>\n",
       "      <th>3468</th>\n",
       "      <td>I left in 2021 after seven years. I took a job...</td>\n",
       "      <td>Title pretty much says it all. I can’t imagine...</td>\n",
       "      <td>209</td>\n",
       "      <td>39</td>\n",
       "      <td>165</td>\n",
       "      <td>31</td>\n",
       "    </tr>\n",
       "    <tr>\n",
       "      <th>3805</th>\n",
       "      <td>I left in 2021 after seven years. I took a job...</td>\n",
       "      <td>Title pretty much says it all. I can’t imagine...</td>\n",
       "      <td>209</td>\n",
       "      <td>39</td>\n",
       "      <td>165</td>\n",
       "      <td>31</td>\n",
       "    </tr>\n",
       "    <tr>\n",
       "      <th>4200</th>\n",
       "      <td>1 semester away from my degree in Music. I hav...</td>\n",
       "      <td>I haven't been in a teaching role in quite awh...</td>\n",
       "      <td>210</td>\n",
       "      <td>38</td>\n",
       "      <td>1541</td>\n",
       "      <td>288</td>\n",
       "    </tr>\n",
       "  </tbody>\n",
       "</table>\n",
       "</div>"
      ],
      "text/plain": [
       "                                                  title  \\\n",
       "4479  I left in 2021 after seven years. I took a job...   \n",
       "4142  I left in 2021 after seven years. I took a job...   \n",
       "3468  I left in 2021 after seven years. I took a job...   \n",
       "3805  I left in 2021 after seven years. I took a job...   \n",
       "4200  1 semester away from my degree in Music. I hav...   \n",
       "\n",
       "                                              self_text  title_length  \\\n",
       "4479  Title pretty much says it all. I can’t imagine...           209   \n",
       "4142  Title pretty much says it all. I can’t imagine...           209   \n",
       "3468  Title pretty much says it all. I can’t imagine...           209   \n",
       "3805  Title pretty much says it all. I can’t imagine...           209   \n",
       "4200  I haven't been in a teaching role in quite awh...           210   \n",
       "\n",
       "      title_word_count  text_length  text_word_count  \n",
       "4479                39          165               31  \n",
       "4142                39          165               31  \n",
       "3468                39          165               31  \n",
       "3805                39          165               31  \n",
       "4200                38         1541              288  "
      ]
     },
     "execution_count": 12,
     "metadata": {},
     "output_type": "execute_result"
    }
   ],
   "source": [
    "teacher_reality_title_and_text.sort_values(by='title_word_count', ascending=False).head()"
   ]
  },
  {
   "cell_type": "markdown",
   "id": "f43ac6be-1576-476f-8897-5787a52fc007",
   "metadata": {},
   "source": [
    "> _The longest title had 39 words in it and the shortest title had 1 word in it_"
   ]
  },
  {
   "cell_type": "code",
   "execution_count": 13,
   "id": "3431ea65-1e0a-40c8-9371-152badfb3d77",
   "metadata": {
    "tags": []
   },
   "outputs": [
    {
     "data": {
      "text/html": [
       "<div>\n",
       "<style scoped>\n",
       "    .dataframe tbody tr th:only-of-type {\n",
       "        vertical-align: middle;\n",
       "    }\n",
       "\n",
       "    .dataframe tbody tr th {\n",
       "        vertical-align: top;\n",
       "    }\n",
       "\n",
       "    .dataframe thead th {\n",
       "        text-align: right;\n",
       "    }\n",
       "</style>\n",
       "<table border=\"1\" class=\"dataframe\">\n",
       "  <thead>\n",
       "    <tr style=\"text-align: right;\">\n",
       "      <th></th>\n",
       "      <th>title</th>\n",
       "      <th>self_text</th>\n",
       "      <th>title_length</th>\n",
       "      <th>title_word_count</th>\n",
       "      <th>text_length</th>\n",
       "      <th>text_word_count</th>\n",
       "    </tr>\n",
       "  </thead>\n",
       "  <tbody>\n",
       "    <tr>\n",
       "      <th>2734</th>\n",
       "      <td>A new book captures the reality of teacher work</td>\n",
       "      <td>[https://www.forbes.com/sites/petergreene/2023...</td>\n",
       "      <td>47</td>\n",
       "      <td>9</td>\n",
       "      <td>236</td>\n",
       "      <td>1</td>\n",
       "    </tr>\n",
       "    <tr>\n",
       "      <th>1903</th>\n",
       "      <td>A new book captures the reality of teacher work</td>\n",
       "      <td>[https://www.forbes.com/sites/petergreene/2023...</td>\n",
       "      <td>47</td>\n",
       "      <td>9</td>\n",
       "      <td>236</td>\n",
       "      <td>1</td>\n",
       "    </tr>\n",
       "    <tr>\n",
       "      <th>662</th>\n",
       "      <td>A new book captures the reality of teacher work</td>\n",
       "      <td>[https://www.forbes.com/sites/petergreene/2023...</td>\n",
       "      <td>47</td>\n",
       "      <td>9</td>\n",
       "      <td>236</td>\n",
       "      <td>1</td>\n",
       "    </tr>\n",
       "    <tr>\n",
       "      <th>688</th>\n",
       "      <td>74% of Connecticut teachers consider quitting</td>\n",
       "      <td>[https://cea.org/school-crisis-74-of-teachers-...</td>\n",
       "      <td>45</td>\n",
       "      <td>6</td>\n",
       "      <td>146</td>\n",
       "      <td>1</td>\n",
       "    </tr>\n",
       "    <tr>\n",
       "      <th>70</th>\n",
       "      <td>74% of Connecticut teachers consider quitting</td>\n",
       "      <td>[https://cea.org/school-crisis-74-of-teachers-...</td>\n",
       "      <td>45</td>\n",
       "      <td>6</td>\n",
       "      <td>146</td>\n",
       "      <td>1</td>\n",
       "    </tr>\n",
       "  </tbody>\n",
       "</table>\n",
       "</div>"
      ],
      "text/plain": [
       "                                                title  \\\n",
       "2734  A new book captures the reality of teacher work   \n",
       "1903  A new book captures the reality of teacher work   \n",
       "662   A new book captures the reality of teacher work   \n",
       "688     74% of Connecticut teachers consider quitting   \n",
       "70      74% of Connecticut teachers consider quitting   \n",
       "\n",
       "                                              self_text  title_length  \\\n",
       "2734  [https://www.forbes.com/sites/petergreene/2023...            47   \n",
       "1903  [https://www.forbes.com/sites/petergreene/2023...            47   \n",
       "662   [https://www.forbes.com/sites/petergreene/2023...            47   \n",
       "688   [https://cea.org/school-crisis-74-of-teachers-...            45   \n",
       "70    [https://cea.org/school-crisis-74-of-teachers-...            45   \n",
       "\n",
       "      title_word_count  text_length  text_word_count  \n",
       "2734                 9          236                1  \n",
       "1903                 9          236                1  \n",
       "662                  9          236                1  \n",
       "688                  6          146                1  \n",
       "70                   6          146                1  "
      ]
     },
     "execution_count": 13,
     "metadata": {},
     "output_type": "execute_result"
    }
   ],
   "source": [
    "teacher_reality_title_and_text.sort_values(by='text_word_count').head()"
   ]
  },
  {
   "cell_type": "code",
   "execution_count": 15,
   "id": "db88573a-a71f-4ad5-8780-1c54ae5c2006",
   "metadata": {
    "tags": []
   },
   "outputs": [
    {
     "data": {
      "text/html": [
       "<div>\n",
       "<style scoped>\n",
       "    .dataframe tbody tr th:only-of-type {\n",
       "        vertical-align: middle;\n",
       "    }\n",
       "\n",
       "    .dataframe tbody tr th {\n",
       "        vertical-align: top;\n",
       "    }\n",
       "\n",
       "    .dataframe thead th {\n",
       "        text-align: right;\n",
       "    }\n",
       "</style>\n",
       "<table border=\"1\" class=\"dataframe\">\n",
       "  <thead>\n",
       "    <tr style=\"text-align: right;\">\n",
       "      <th></th>\n",
       "      <th>title</th>\n",
       "      <th>self_text</th>\n",
       "      <th>title_length</th>\n",
       "      <th>title_word_count</th>\n",
       "      <th>text_length</th>\n",
       "      <th>text_word_count</th>\n",
       "    </tr>\n",
       "  </thead>\n",
       "  <tbody>\n",
       "    <tr>\n",
       "      <th>3868</th>\n",
       "      <td>Abuse is The Norm in Teaching - My Experience</td>\n",
       "      <td>I posted about this in the SpEd and Teachers f...</td>\n",
       "      <td>45</td>\n",
       "      <td>9</td>\n",
       "      <td>11666</td>\n",
       "      <td>2252</td>\n",
       "    </tr>\n",
       "    <tr>\n",
       "      <th>4205</th>\n",
       "      <td>Abuse is The Norm in Teaching - My Experience</td>\n",
       "      <td>I posted about this in the SpEd and Teachers f...</td>\n",
       "      <td>45</td>\n",
       "      <td>9</td>\n",
       "      <td>11666</td>\n",
       "      <td>2252</td>\n",
       "    </tr>\n",
       "    <tr>\n",
       "      <th>1844</th>\n",
       "      <td>Abuse is The Norm in Teaching - My Experience</td>\n",
       "      <td>I posted about this in the SpEd and Teachers f...</td>\n",
       "      <td>45</td>\n",
       "      <td>9</td>\n",
       "      <td>11666</td>\n",
       "      <td>2252</td>\n",
       "    </tr>\n",
       "    <tr>\n",
       "      <th>4542</th>\n",
       "      <td>Abuse is The Norm in Teaching - My Experience</td>\n",
       "      <td>I posted about this in the SpEd and Teachers f...</td>\n",
       "      <td>45</td>\n",
       "      <td>9</td>\n",
       "      <td>11666</td>\n",
       "      <td>2252</td>\n",
       "    </tr>\n",
       "    <tr>\n",
       "      <th>3531</th>\n",
       "      <td>Abuse is The Norm in Teaching - My Experience</td>\n",
       "      <td>I posted about this in the SpEd and Teachers f...</td>\n",
       "      <td>45</td>\n",
       "      <td>9</td>\n",
       "      <td>11666</td>\n",
       "      <td>2252</td>\n",
       "    </tr>\n",
       "  </tbody>\n",
       "</table>\n",
       "</div>"
      ],
      "text/plain": [
       "                                              title  \\\n",
       "3868  Abuse is The Norm in Teaching - My Experience   \n",
       "4205  Abuse is The Norm in Teaching - My Experience   \n",
       "1844  Abuse is The Norm in Teaching - My Experience   \n",
       "4542  Abuse is The Norm in Teaching - My Experience   \n",
       "3531  Abuse is The Norm in Teaching - My Experience   \n",
       "\n",
       "                                              self_text  title_length  \\\n",
       "3868  I posted about this in the SpEd and Teachers f...            45   \n",
       "4205  I posted about this in the SpEd and Teachers f...            45   \n",
       "1844  I posted about this in the SpEd and Teachers f...            45   \n",
       "4542  I posted about this in the SpEd and Teachers f...            45   \n",
       "3531  I posted about this in the SpEd and Teachers f...            45   \n",
       "\n",
       "      title_word_count  text_length  text_word_count  \n",
       "3868                 9        11666             2252  \n",
       "4205                 9        11666             2252  \n",
       "1844                 9        11666             2252  \n",
       "4542                 9        11666             2252  \n",
       "3531                 9        11666             2252  "
      ]
     },
     "execution_count": 15,
     "metadata": {},
     "output_type": "execute_result"
    }
   ],
   "source": [
    "teacher_reality_title_and_text.sort_values(by='text_word_count', ascending=False).head()"
   ]
  },
  {
   "cell_type": "markdown",
   "id": "93bc3b87-a8ea-4ac5-9c2d-cbfce2518213",
   "metadata": {},
   "source": [
    "> _The longest text had 2,252 words in it and the shortest title had 1 word in it_"
   ]
  },
  {
   "cell_type": "code",
   "execution_count": 20,
   "id": "d12eacab-1717-47bf-9958-a962aeaac5fe",
   "metadata": {
    "tags": []
   },
   "outputs": [
    {
     "data": {
      "text/plain": [
       "51.62972508591065"
      ]
     },
     "execution_count": 20,
     "metadata": {},
     "output_type": "execute_result"
    }
   ],
   "source": [
    "teacher_reality_title_and_text['title_length'].mean()"
   ]
  },
  {
   "cell_type": "code",
   "execution_count": 21,
   "id": "f98a911f-9db7-4f14-bf3a-f2e03cdac46f",
   "metadata": {
    "tags": []
   },
   "outputs": [
    {
     "data": {
      "text/plain": [
       "9.184278350515465"
      ]
     },
     "execution_count": 21,
     "metadata": {},
     "output_type": "execute_result"
    }
   ],
   "source": [
    "teacher_reality_title_and_text['title_word_count'].mean()"
   ]
  },
  {
   "cell_type": "code",
   "execution_count": 25,
   "id": "ab3bffb4-fd1a-4576-a43c-d14b27d78bfc",
   "metadata": {
    "tags": []
   },
   "outputs": [
    {
     "data": {
      "text/plain": [
       "1072.8797250859106"
      ]
     },
     "execution_count": 25,
     "metadata": {},
     "output_type": "execute_result"
    }
   ],
   "source": [
    "teacher_reality_title_and_text['text_length'].mean()"
   ]
  },
  {
   "cell_type": "code",
   "execution_count": 26,
   "id": "69b78697-3612-4e25-b7fc-87a1ac3e325a",
   "metadata": {
    "tags": []
   },
   "outputs": [
    {
     "data": {
      "text/plain": [
       "191.51503436426117"
      ]
     },
     "execution_count": 26,
     "metadata": {},
     "output_type": "execute_result"
    }
   ],
   "source": [
    "teacher_reality_title_and_text['text_word_count'].mean()"
   ]
  },
  {
   "cell_type": "markdown",
   "id": "a22bb340-ece1-4a30-b1ac-60b41b6327d8",
   "metadata": {},
   "source": [
    "**Let's take a look at visuals to show the distributions of title and text lengths by word count and length:**"
   ]
  },
  {
   "cell_type": "code",
   "execution_count": 45,
   "id": "6424c2c7-c2ae-4c42-951c-ba5ab2a8e781",
   "metadata": {
    "tags": []
   },
   "outputs": [
    {
     "data": {
      "image/png": "[encoded data removed]",
      "text/plain": [
       "<Figure size 600x400 with 1 Axes>"
      ]
     },
     "metadata": {},
     "output_type": "display_data"
    }
   ],
   "source": [
    "plt.figure(figsize= (6,4))\n",
    "plt.hist(teacher_reality_title_and_text['title_length'], bins = 10, color = 'plum', edgecolor = 'white')\n",
    "plt.xlabel('Title Length')\n",
    "plt.ylabel('Frequency');"
   ]
  },
  {
   "cell_type": "code",
   "execution_count": 29,
   "id": "94c210a6-3300-4fbb-a8e3-76bab586a093",
   "metadata": {
    "tags": []
   },
   "outputs": [
    {
     "data": {
      "image/png": "[encoded data removed]",
      "text/plain": [
       "<Figure size 600x400 with 1 Axes>"
      ]
     },
     "metadata": {},
     "output_type": "display_data"
    }
   ],
   "source": [
    "plt.figure(figsize= (6,4))\n",
    "plt.hist(teacher_reality_title_and_text['title_word_count'], bins = 10, color = 'plum', edgecolor = 'white')\n",
    "plt.xlabel('Title Word Count')\n",
    "plt.ylabel('Frequency');"
   ]
  },
  {
   "cell_type": "code",
   "execution_count": 31,
   "id": "d80e1c08-56f8-45cf-be72-bea551d2b19f",
   "metadata": {
    "tags": []
   },
   "outputs": [
    {
     "data": {
      "image/png": "[encoded data removed]",
      "text/plain": [
       "<Figure size 600x400 with 1 Axes>"
      ]
     },
     "metadata": {},
     "output_type": "display_data"
    }
   ],
   "source": [
    "plt.figure(figsize= (6,4))\n",
    "plt.hist(teacher_reality_title_and_text['text_length'], bins = 10, color = 'indigo', edgecolor = 'white')\n",
    "plt.xlabel('Text Length')\n",
    "plt.ylabel('Frequency');"
   ]
  },
  {
   "cell_type": "code",
   "execution_count": 33,
   "id": "404c371f-43d6-4acb-90e2-b059bf584edf",
   "metadata": {
    "tags": []
   },
   "outputs": [
    {
     "data": {
      "image/png": "[encoded data removed]",
      "text/plain": [
       "<Figure size 600x400 with 1 Axes>"
      ]
     },
     "metadata": {},
     "output_type": "display_data"
    }
   ],
   "source": [
    "plt.figure(figsize= (6,4))\n",
    "plt.hist(teacher_reality_title_and_text['text_word_count'], bins = 10, color = 'indigo', edgecolor = 'white')\n",
    "plt.xlabel('Text Word Count')\n",
    "plt.ylabel('Frequency');"
   ]
  },
  {
   "cell_type": "markdown",
   "id": "1dd85cc7-f519-47e4-aa4e-d92ffd187350",
   "metadata": {},
   "source": [
    ">_All 4 of the ditributions above are scewed right, meaning that longer titles/texts are not the majority._"
   ]
  },
  {
   "cell_type": "markdown",
   "id": "dc39a1d4-3922-4d44-8e3e-0e3690d9d10f",
   "metadata": {},
   "source": [
    "**Mental Health**"
   ]
  },
  {
   "cell_type": "code",
   "execution_count": 34,
   "id": "e3d551b8-ea9d-40fd-8d56-138f9176f205",
   "metadata": {
    "tags": []
   },
   "outputs": [],
   "source": [
    "mental_health_title_and_text = mental_health.drop(columns= ['created_utc', 'subreddit'])"
   ]
  },
  {
   "cell_type": "code",
   "execution_count": 35,
   "id": "e06c4ddf-32b4-4dac-beea-240f12ac8d61",
   "metadata": {
    "tags": []
   },
   "outputs": [
    {
     "data": {
      "text/html": [
       "<div>\n",
       "<style scoped>\n",
       "    .dataframe tbody tr th:only-of-type {\n",
       "        vertical-align: middle;\n",
       "    }\n",
       "\n",
       "    .dataframe tbody tr th {\n",
       "        vertical-align: top;\n",
       "    }\n",
       "\n",
       "    .dataframe thead th {\n",
       "        text-align: right;\n",
       "    }\n",
       "</style>\n",
       "<table border=\"1\" class=\"dataframe\">\n",
       "  <thead>\n",
       "    <tr style=\"text-align: right;\">\n",
       "      <th></th>\n",
       "      <th>title</th>\n",
       "      <th>self_text</th>\n",
       "      <th>title_length</th>\n",
       "      <th>title_word_count</th>\n",
       "      <th>text_length</th>\n",
       "      <th>text_word_count</th>\n",
       "    </tr>\n",
       "  </thead>\n",
       "  <tbody>\n",
       "    <tr>\n",
       "      <th>0</th>\n",
       "      <td>I DID IT!!!</td>\n",
       "      <td>I DID IT!! I COMMUNICATED MY FEELINGS IN A HEA...</td>\n",
       "      <td>11</td>\n",
       "      <td>3</td>\n",
       "      <td>736</td>\n",
       "      <td>139</td>\n",
       "    </tr>\n",
       "    <tr>\n",
       "      <th>1</th>\n",
       "      <td>Can porn be healthy?</td>\n",
       "      <td>18M here\\nSo my question is whether porn consu...</td>\n",
       "      <td>20</td>\n",
       "      <td>4</td>\n",
       "      <td>588</td>\n",
       "      <td>115</td>\n",
       "    </tr>\n",
       "    <tr>\n",
       "      <th>2</th>\n",
       "      <td>what are things that get you emotionally high?</td>\n",
       "      <td>something that got me so emotionally high was ...</td>\n",
       "      <td>46</td>\n",
       "      <td>8</td>\n",
       "      <td>327</td>\n",
       "      <td>58</td>\n",
       "    </tr>\n",
       "    <tr>\n",
       "      <th>3</th>\n",
       "      <td>I constantly think people dislike me or hate m...</td>\n",
       "      <td>Just the title. I see myself doing it but it's...</td>\n",
       "      <td>146</td>\n",
       "      <td>28</td>\n",
       "      <td>796</td>\n",
       "      <td>148</td>\n",
       "    </tr>\n",
       "    <tr>\n",
       "      <th>4</th>\n",
       "      <td>How do you overcome depression if the environm...</td>\n",
       "      <td>I live in a small town of 42.000 people and th...</td>\n",
       "      <td>93</td>\n",
       "      <td>17</td>\n",
       "      <td>132</td>\n",
       "      <td>27</td>\n",
       "    </tr>\n",
       "  </tbody>\n",
       "</table>\n",
       "</div>"
      ],
      "text/plain": [
       "                                               title  \\\n",
       "0                                        I DID IT!!!   \n",
       "1                               Can porn be healthy?   \n",
       "2     what are things that get you emotionally high?   \n",
       "3  I constantly think people dislike me or hate m...   \n",
       "4  How do you overcome depression if the environm...   \n",
       "\n",
       "                                           self_text  title_length  \\\n",
       "0  I DID IT!! I COMMUNICATED MY FEELINGS IN A HEA...            11   \n",
       "1  18M here\\nSo my question is whether porn consu...            20   \n",
       "2  something that got me so emotionally high was ...            46   \n",
       "3  Just the title. I see myself doing it but it's...           146   \n",
       "4  I live in a small town of 42.000 people and th...            93   \n",
       "\n",
       "   title_word_count  text_length  text_word_count  \n",
       "0                 3          736              139  \n",
       "1                 4          588              115  \n",
       "2                 8          327               58  \n",
       "3                28          796              148  \n",
       "4                17          132               27  "
      ]
     },
     "execution_count": 35,
     "metadata": {},
     "output_type": "execute_result"
    }
   ],
   "source": [
    "mental_health_title_and_text['title_length'] = mental_health_title_and_text['title'].apply(len)\n",
    "mental_health_title_and_text['title_word_count'] = mental_health_title_and_text['title'].str.split().str.len()\n",
    "\n",
    "mental_health_title_and_text['text_length'] = mental_health_title_and_text['self_text'].apply(len)\n",
    "mental_health_title_and_text['text_word_count'] = mental_health_title_and_text['self_text'].str.split().str.len()\n",
    "mental_health_title_and_text.head()"
   ]
  },
  {
   "cell_type": "markdown",
   "id": "811ae5b4-241f-457f-9342-df6fd31e5a5a",
   "metadata": {},
   "source": [
    "**Let's take a look at the min and max titles by word count and by text count:**"
   ]
  },
  {
   "cell_type": "code",
   "execution_count": 36,
   "id": "518c2e1c-309b-4525-a541-5efb14514787",
   "metadata": {
    "tags": []
   },
   "outputs": [
    {
     "data": {
      "text/html": [
       "<div>\n",
       "<style scoped>\n",
       "    .dataframe tbody tr th:only-of-type {\n",
       "        vertical-align: middle;\n",
       "    }\n",
       "\n",
       "    .dataframe tbody tr th {\n",
       "        vertical-align: top;\n",
       "    }\n",
       "\n",
       "    .dataframe thead th {\n",
       "        text-align: right;\n",
       "    }\n",
       "</style>\n",
       "<table border=\"1\" class=\"dataframe\">\n",
       "  <thead>\n",
       "    <tr style=\"text-align: right;\">\n",
       "      <th></th>\n",
       "      <th>title</th>\n",
       "      <th>self_text</th>\n",
       "      <th>title_length</th>\n",
       "      <th>title_word_count</th>\n",
       "      <th>text_length</th>\n",
       "      <th>text_word_count</th>\n",
       "    </tr>\n",
       "  </thead>\n",
       "  <tbody>\n",
       "    <tr>\n",
       "      <th>3131</th>\n",
       "      <td>Post-Graduation</td>\n",
       "      <td>Hey, I've graduated 4 months ago and yesterday...</td>\n",
       "      <td>15</td>\n",
       "      <td>1</td>\n",
       "      <td>897</td>\n",
       "      <td>184</td>\n",
       "    </tr>\n",
       "    <tr>\n",
       "      <th>4329</th>\n",
       "      <td>Struggling</td>\n",
       "      <td>I am a university student. I have always studi...</td>\n",
       "      <td>10</td>\n",
       "      <td>1</td>\n",
       "      <td>521</td>\n",
       "      <td>102</td>\n",
       "    </tr>\n",
       "    <tr>\n",
       "      <th>1336</th>\n",
       "      <td>Depression?</td>\n",
       "      <td>Lately I’ve been feeling completely empty.I fe...</td>\n",
       "      <td>11</td>\n",
       "      <td>1</td>\n",
       "      <td>415</td>\n",
       "      <td>75</td>\n",
       "    </tr>\n",
       "    <tr>\n",
       "      <th>317</th>\n",
       "      <td>Depression/confused</td>\n",
       "      <td>Do you ever feel so sadden by the pain in the ...</td>\n",
       "      <td>19</td>\n",
       "      <td>1</td>\n",
       "      <td>670</td>\n",
       "      <td>133</td>\n",
       "    </tr>\n",
       "    <tr>\n",
       "      <th>152</th>\n",
       "      <td>Post-Graduation</td>\n",
       "      <td>Hey, I've graduated 4 months ago and yesterday...</td>\n",
       "      <td>15</td>\n",
       "      <td>1</td>\n",
       "      <td>897</td>\n",
       "      <td>184</td>\n",
       "    </tr>\n",
       "  </tbody>\n",
       "</table>\n",
       "</div>"
      ],
      "text/plain": [
       "                    title                                          self_text  \\\n",
       "3131      Post-Graduation  Hey, I've graduated 4 months ago and yesterday...   \n",
       "4329           Struggling  I am a university student. I have always studi...   \n",
       "1336          Depression?  Lately I’ve been feeling completely empty.I fe...   \n",
       "317   Depression/confused  Do you ever feel so sadden by the pain in the ...   \n",
       "152       Post-Graduation  Hey, I've graduated 4 months ago and yesterday...   \n",
       "\n",
       "      title_length  title_word_count  text_length  text_word_count  \n",
       "3131            15                 1          897              184  \n",
       "4329            10                 1          521              102  \n",
       "1336            11                 1          415               75  \n",
       "317             19                 1          670              133  \n",
       "152             15                 1          897              184  "
      ]
     },
     "execution_count": 36,
     "metadata": {},
     "output_type": "execute_result"
    }
   ],
   "source": [
    "mental_health_title_and_text.sort_values(by='title_word_count').head()"
   ]
  },
  {
   "cell_type": "code",
   "execution_count": 37,
   "id": "97105a7c-fdaf-4ba2-b19c-c83cad6515e0",
   "metadata": {
    "tags": []
   },
   "outputs": [
    {
     "data": {
      "text/html": [
       "<div>\n",
       "<style scoped>\n",
       "    .dataframe tbody tr th:only-of-type {\n",
       "        vertical-align: middle;\n",
       "    }\n",
       "\n",
       "    .dataframe tbody tr th {\n",
       "        vertical-align: top;\n",
       "    }\n",
       "\n",
       "    .dataframe thead th {\n",
       "        text-align: right;\n",
       "    }\n",
       "</style>\n",
       "<table border=\"1\" class=\"dataframe\">\n",
       "  <thead>\n",
       "    <tr style=\"text-align: right;\">\n",
       "      <th></th>\n",
       "      <th>title</th>\n",
       "      <th>self_text</th>\n",
       "      <th>title_length</th>\n",
       "      <th>title_word_count</th>\n",
       "      <th>text_length</th>\n",
       "      <th>text_word_count</th>\n",
       "    </tr>\n",
       "  </thead>\n",
       "  <tbody>\n",
       "    <tr>\n",
       "      <th>3684</th>\n",
       "      <td>I think of my problem is I try to make my brai...</td>\n",
       "      <td>Should I think about other things and acknowle...</td>\n",
       "      <td>268</td>\n",
       "      <td>56</td>\n",
       "      <td>72</td>\n",
       "      <td>12</td>\n",
       "    </tr>\n",
       "    <tr>\n",
       "      <th>1698</th>\n",
       "      <td>I think of my problem is I try to make my brai...</td>\n",
       "      <td>Should I think about other things and acknowle...</td>\n",
       "      <td>268</td>\n",
       "      <td>56</td>\n",
       "      <td>72</td>\n",
       "      <td>12</td>\n",
       "    </tr>\n",
       "    <tr>\n",
       "      <th>705</th>\n",
       "      <td>I think of my problem is I try to make my brai...</td>\n",
       "      <td>Should I think about other things and acknowle...</td>\n",
       "      <td>268</td>\n",
       "      <td>56</td>\n",
       "      <td>72</td>\n",
       "      <td>12</td>\n",
       "    </tr>\n",
       "    <tr>\n",
       "      <th>4677</th>\n",
       "      <td>I think of my problem is I try to make my brai...</td>\n",
       "      <td>Should I think about other things and acknowle...</td>\n",
       "      <td>268</td>\n",
       "      <td>56</td>\n",
       "      <td>72</td>\n",
       "      <td>12</td>\n",
       "    </tr>\n",
       "    <tr>\n",
       "      <th>2691</th>\n",
       "      <td>I think of my problem is I try to make my brai...</td>\n",
       "      <td>Should I think about other things and acknowle...</td>\n",
       "      <td>268</td>\n",
       "      <td>56</td>\n",
       "      <td>72</td>\n",
       "      <td>12</td>\n",
       "    </tr>\n",
       "  </tbody>\n",
       "</table>\n",
       "</div>"
      ],
      "text/plain": [
       "                                                  title  \\\n",
       "3684  I think of my problem is I try to make my brai...   \n",
       "1698  I think of my problem is I try to make my brai...   \n",
       "705   I think of my problem is I try to make my brai...   \n",
       "4677  I think of my problem is I try to make my brai...   \n",
       "2691  I think of my problem is I try to make my brai...   \n",
       "\n",
       "                                              self_text  title_length  \\\n",
       "3684  Should I think about other things and acknowle...           268   \n",
       "1698  Should I think about other things and acknowle...           268   \n",
       "705   Should I think about other things and acknowle...           268   \n",
       "4677  Should I think about other things and acknowle...           268   \n",
       "2691  Should I think about other things and acknowle...           268   \n",
       "\n",
       "      title_word_count  text_length  text_word_count  \n",
       "3684                56           72               12  \n",
       "1698                56           72               12  \n",
       "705                 56           72               12  \n",
       "4677                56           72               12  \n",
       "2691                56           72               12  "
      ]
     },
     "execution_count": 37,
     "metadata": {},
     "output_type": "execute_result"
    }
   ],
   "source": [
    "mental_health_title_and_text.sort_values(by='title_word_count', ascending=False).head()"
   ]
  },
  {
   "cell_type": "markdown",
   "id": "9df28302-e13a-4780-bef3-1badbeb8958a",
   "metadata": {},
   "source": [
    "> _The longest title had 56 words in it and the shortest title had 1 word in it_"
   ]
  },
  {
   "cell_type": "code",
   "execution_count": 38,
   "id": "22e5c3ab-1133-4469-8404-28b48f6b0e2c",
   "metadata": {
    "tags": []
   },
   "outputs": [
    {
     "data": {
      "text/html": [
       "<div>\n",
       "<style scoped>\n",
       "    .dataframe tbody tr th:only-of-type {\n",
       "        vertical-align: middle;\n",
       "    }\n",
       "\n",
       "    .dataframe tbody tr th {\n",
       "        vertical-align: top;\n",
       "    }\n",
       "\n",
       "    .dataframe thead th {\n",
       "        text-align: right;\n",
       "    }\n",
       "</style>\n",
       "<table border=\"1\" class=\"dataframe\">\n",
       "  <thead>\n",
       "    <tr style=\"text-align: right;\">\n",
       "      <th></th>\n",
       "      <th>title</th>\n",
       "      <th>self_text</th>\n",
       "      <th>title_length</th>\n",
       "      <th>title_word_count</th>\n",
       "      <th>text_length</th>\n",
       "      <th>text_word_count</th>\n",
       "    </tr>\n",
       "  </thead>\n",
       "  <tbody>\n",
       "    <tr>\n",
       "      <th>2648</th>\n",
       "      <td>Sharing my energy</td>\n",
       "      <td>[https://www.reddit.com/user/BusHelpful6163/co...</td>\n",
       "      <td>17</td>\n",
       "      <td>3</td>\n",
       "      <td>279</td>\n",
       "      <td>1</td>\n",
       "    </tr>\n",
       "    <tr>\n",
       "      <th>1534</th>\n",
       "      <td>where and how do you get the motivation and st...</td>\n",
       "      <td>Tired</td>\n",
       "      <td>151</td>\n",
       "      <td>32</td>\n",
       "      <td>5</td>\n",
       "      <td>1</td>\n",
       "    </tr>\n",
       "    <tr>\n",
       "      <th>3520</th>\n",
       "      <td>where and how do you get the motivation and st...</td>\n",
       "      <td>Tired</td>\n",
       "      <td>151</td>\n",
       "      <td>32</td>\n",
       "      <td>5</td>\n",
       "      <td>1</td>\n",
       "    </tr>\n",
       "    <tr>\n",
       "      <th>3999</th>\n",
       "      <td>Is it possible to develop autism later in life...</td>\n",
       "      <td>?</td>\n",
       "      <td>89</td>\n",
       "      <td>18</td>\n",
       "      <td>1</td>\n",
       "      <td>1</td>\n",
       "    </tr>\n",
       "    <tr>\n",
       "      <th>27</th>\n",
       "      <td>Is it possible to develop autism later in life...</td>\n",
       "      <td>?</td>\n",
       "      <td>89</td>\n",
       "      <td>18</td>\n",
       "      <td>1</td>\n",
       "      <td>1</td>\n",
       "    </tr>\n",
       "  </tbody>\n",
       "</table>\n",
       "</div>"
      ],
      "text/plain": [
       "                                                  title  \\\n",
       "2648                                  Sharing my energy   \n",
       "1534  where and how do you get the motivation and st...   \n",
       "3520  where and how do you get the motivation and st...   \n",
       "3999  Is it possible to develop autism later in life...   \n",
       "27    Is it possible to develop autism later in life...   \n",
       "\n",
       "                                              self_text  title_length  \\\n",
       "2648  [https://www.reddit.com/user/BusHelpful6163/co...            17   \n",
       "1534                                              Tired           151   \n",
       "3520                                              Tired           151   \n",
       "3999                                                  ?            89   \n",
       "27                                                    ?            89   \n",
       "\n",
       "      title_word_count  text_length  text_word_count  \n",
       "2648                 3          279                1  \n",
       "1534                32            5                1  \n",
       "3520                32            5                1  \n",
       "3999                18            1                1  \n",
       "27                  18            1                1  "
      ]
     },
     "execution_count": 38,
     "metadata": {},
     "output_type": "execute_result"
    }
   ],
   "source": [
    "mental_health_title_and_text.sort_values(by='text_word_count').head()"
   ]
  },
  {
   "cell_type": "code",
   "execution_count": 39,
   "id": "0ed9fd45-811f-425b-b3c8-82a9fbcf64ea",
   "metadata": {
    "tags": []
   },
   "outputs": [
    {
     "data": {
      "text/html": [
       "<div>\n",
       "<style scoped>\n",
       "    .dataframe tbody tr th:only-of-type {\n",
       "        vertical-align: middle;\n",
       "    }\n",
       "\n",
       "    .dataframe tbody tr th {\n",
       "        vertical-align: top;\n",
       "    }\n",
       "\n",
       "    .dataframe thead th {\n",
       "        text-align: right;\n",
       "    }\n",
       "</style>\n",
       "<table border=\"1\" class=\"dataframe\">\n",
       "  <thead>\n",
       "    <tr style=\"text-align: right;\">\n",
       "      <th></th>\n",
       "      <th>title</th>\n",
       "      <th>self_text</th>\n",
       "      <th>title_length</th>\n",
       "      <th>title_word_count</th>\n",
       "      <th>text_length</th>\n",
       "      <th>text_word_count</th>\n",
       "    </tr>\n",
       "  </thead>\n",
       "  <tbody>\n",
       "    <tr>\n",
       "      <th>1248</th>\n",
       "      <td>i really want to do something silly</td>\n",
       "      <td>TW: SH\\r  \\n\\r  \\nthis i so long im really sor...</td>\n",
       "      <td>35</td>\n",
       "      <td>7</td>\n",
       "      <td>10570</td>\n",
       "      <td>2187</td>\n",
       "    </tr>\n",
       "    <tr>\n",
       "      <th>255</th>\n",
       "      <td>i really want to do something silly</td>\n",
       "      <td>TW: SH\\r  \\n\\r  \\nthis i so long im really sor...</td>\n",
       "      <td>35</td>\n",
       "      <td>7</td>\n",
       "      <td>10570</td>\n",
       "      <td>2187</td>\n",
       "    </tr>\n",
       "    <tr>\n",
       "      <th>3234</th>\n",
       "      <td>i really want to do something silly</td>\n",
       "      <td>TW: SH\\r  \\n\\r  \\nthis i so long im really sor...</td>\n",
       "      <td>35</td>\n",
       "      <td>7</td>\n",
       "      <td>10570</td>\n",
       "      <td>2187</td>\n",
       "    </tr>\n",
       "    <tr>\n",
       "      <th>4227</th>\n",
       "      <td>i really want to do something silly</td>\n",
       "      <td>TW: SH\\r  \\n\\r  \\nthis i so long im really sor...</td>\n",
       "      <td>35</td>\n",
       "      <td>7</td>\n",
       "      <td>10570</td>\n",
       "      <td>2187</td>\n",
       "    </tr>\n",
       "    <tr>\n",
       "      <th>2241</th>\n",
       "      <td>i really want to do something silly</td>\n",
       "      <td>TW: SH\\r  \\n\\r  \\nthis i so long im really sor...</td>\n",
       "      <td>35</td>\n",
       "      <td>7</td>\n",
       "      <td>10570</td>\n",
       "      <td>2187</td>\n",
       "    </tr>\n",
       "  </tbody>\n",
       "</table>\n",
       "</div>"
      ],
      "text/plain": [
       "                                    title  \\\n",
       "1248  i really want to do something silly   \n",
       "255   i really want to do something silly   \n",
       "3234  i really want to do something silly   \n",
       "4227  i really want to do something silly   \n",
       "2241  i really want to do something silly   \n",
       "\n",
       "                                              self_text  title_length  \\\n",
       "1248  TW: SH\\r  \\n\\r  \\nthis i so long im really sor...            35   \n",
       "255   TW: SH\\r  \\n\\r  \\nthis i so long im really sor...            35   \n",
       "3234  TW: SH\\r  \\n\\r  \\nthis i so long im really sor...            35   \n",
       "4227  TW: SH\\r  \\n\\r  \\nthis i so long im really sor...            35   \n",
       "2241  TW: SH\\r  \\n\\r  \\nthis i so long im really sor...            35   \n",
       "\n",
       "      title_word_count  text_length  text_word_count  \n",
       "1248                 7        10570             2187  \n",
       "255                  7        10570             2187  \n",
       "3234                 7        10570             2187  \n",
       "4227                 7        10570             2187  \n",
       "2241                 7        10570             2187  "
      ]
     },
     "execution_count": 39,
     "metadata": {},
     "output_type": "execute_result"
    }
   ],
   "source": [
    "mental_health_title_and_text.sort_values(by='text_word_count', ascending=False).head()"
   ]
  },
  {
   "cell_type": "markdown",
   "id": "b18233aa-eb47-45b0-b6c4-d4a344df7e87",
   "metadata": {},
   "source": [
    "> _The longest text had 2,187 words in it and the shortest title had 1 word in it_"
   ]
  },
  {
   "cell_type": "code",
   "execution_count": 41,
   "id": "474e2a8c-2b84-4641-8895-c26dd7bc291c",
   "metadata": {
    "tags": []
   },
   "outputs": [
    {
     "data": {
      "text/plain": [
       "44.6797583081571"
      ]
     },
     "execution_count": 41,
     "metadata": {},
     "output_type": "execute_result"
    }
   ],
   "source": [
    "mental_health_title_and_text['title_length'].mean()"
   ]
  },
  {
   "cell_type": "code",
   "execution_count": 42,
   "id": "fcf917f6-3051-43d4-915e-c181cc09b6ba",
   "metadata": {
    "tags": []
   },
   "outputs": [
    {
     "data": {
      "text/plain": [
       "8.34944612286002"
      ]
     },
     "execution_count": 42,
     "metadata": {},
     "output_type": "execute_result"
    }
   ],
   "source": [
    "mental_health_title_and_text['title_word_count'].mean()"
   ]
  },
  {
   "cell_type": "code",
   "execution_count": 43,
   "id": "436ec90c-20ee-478f-abe7-6ea15c4e7397",
   "metadata": {
    "tags": []
   },
   "outputs": [
    {
     "data": {
      "text/plain": [
       "1202.154078549849"
      ]
     },
     "execution_count": 43,
     "metadata": {},
     "output_type": "execute_result"
    }
   ],
   "source": [
    "mental_health_title_and_text['text_length'].mean()"
   ]
  },
  {
   "cell_type": "code",
   "execution_count": 44,
   "id": "04e514fc-c356-453f-9f2d-052b6b709f9e",
   "metadata": {
    "tags": []
   },
   "outputs": [
    {
     "data": {
      "text/plain": [
       "229.8882175226586"
      ]
     },
     "execution_count": 44,
     "metadata": {},
     "output_type": "execute_result"
    }
   ],
   "source": [
    "mental_health_title_and_text['text_word_count'].mean()"
   ]
  },
  {
   "cell_type": "markdown",
   "id": "5b52d56f-6add-480b-9661-7ddef6be42bb",
   "metadata": {},
   "source": [
    "**Let's take a look at visuals to show the distributions of title and text lengths by word count and length:**"
   ]
  },
  {
   "cell_type": "code",
   "execution_count": 46,
   "id": "8649505a-999f-49d4-9398-ddcef359ea82",
   "metadata": {
    "tags": []
   },
   "outputs": [
    {
     "data": {
      "image/png": "[encoded data removed]",
      "text/plain": [
       "<Figure size 600x400 with 1 Axes>"
      ]
     },
     "metadata": {},
     "output_type": "display_data"
    }
   ],
   "source": [
    "plt.figure(figsize= (6,4))\n",
    "plt.hist(mental_health_title_and_text['title_length'], bins = 10, color = 'plum', edgecolor = 'white')\n",
    "plt.xlabel('Title Length')\n",
    "plt.ylabel('Frequency');"
   ]
  },
  {
   "cell_type": "code",
   "execution_count": 47,
   "id": "2a63c045-a2cd-42bb-823d-2ee9c65180b7",
   "metadata": {
    "tags": []
   },
   "outputs": [
    {
     "data": {
      "image/png": "[encoded data removed]",
      "text/plain": [
       "<Figure size 600x400 with 1 Axes>"
      ]
     },
     "metadata": {},
     "output_type": "display_data"
    }
   ],
   "source": [
    "plt.figure(figsize= (6,4))\n",
    "plt.hist(mental_health_title_and_text['title_word_count'], bins = 10, color = 'plum', edgecolor = 'white')\n",
    "plt.xlabel('Title Word Count')\n",
    "plt.ylabel('Frequency');"
   ]
  },
  {
   "cell_type": "code",
   "execution_count": 48,
   "id": "9643f9a9-4f33-4d7b-ba82-43c3d9925a10",
   "metadata": {
    "tags": []
   },
   "outputs": [
    {
     "data": {
      "image/png": "[encoded data removed]",
      "text/plain": [
       "<Figure size 600x400 with 1 Axes>"
      ]
     },
     "metadata": {},
     "output_type": "display_data"
    }
   ],
   "source": [
    "plt.figure(figsize= (6,4))\n",
    "plt.hist(mental_health_title_and_text['text_length'], bins = 10, color = 'indigo', edgecolor = 'white')\n",
    "plt.xlabel('Text Length')\n",
    "plt.ylabel('Frequency');"
   ]
  },
  {
   "cell_type": "code",
   "execution_count": 49,
   "id": "3f09402a-6ed7-4425-9d7a-62406a0b0937",
   "metadata": {
    "tags": []
   },
   "outputs": [
    {
     "data": {
      "image/png": "[encoded data removed]",
      "text/plain": [
       "<Figure size 600x400 with 1 Axes>"
      ]
     },
     "metadata": {},
     "output_type": "display_data"
    }
   ],
   "source": [
    "plt.figure(figsize= (6,4))\n",
    "plt.hist(mental_health_title_and_text['text_word_count'], bins = 10, color = 'indigo', edgecolor = 'white')\n",
    "plt.xlabel('Text Word Count')\n",
    "plt.ylabel('Frequency');"
   ]
  },
  {
   "cell_type": "markdown",
   "id": "c8f30e34-e6c8-4721-a41c-96d8361e6cd4",
   "metadata": {},
   "source": [
    ">_Similar to teacher_reality, all 4 of the ditributions above are scewed right, meaning that longer titles/texts are not the majority._"
   ]
  },
  {
   "cell_type": "code",
   "execution_count": null,
   "id": "f56d364b-9bbb-4c55-ae7b-ffbbe9dbcb79",
   "metadata": {},
   "outputs": [],
   "source": []
  },
  {
   "cell_type": "code",
   "execution_count": null,
   "id": "ed732cc9-7d30-48c3-ab6d-fbfb30930428",
   "metadata": {},
   "outputs": [],
   "source": []
  },
  {
   "cell_type": "code",
   "execution_count": null,
   "id": "e6fb6f15-4d3b-4e67-9cf0-286bc26360e0",
   "metadata": {},
   "outputs": [],
   "source": []
  },
  {
   "cell_type": "markdown",
   "id": "38ecd19b-4dbd-4bd0-a32e-0f83af24882b",
   "metadata": {},
   "source": [
    "# Compare Common Words"
   ]
  },
  {
   "cell_type": "markdown",
   "id": "e9bed272-26fa-4782-97fe-fd2320aec632",
   "metadata": {},
   "source": [
    "Let's visualize the most common words from both data sets and see compare the two. I am going to use CountVectorizer on both data sets to convert the text into a more structured df for EDA.  "
   ]
  },
  {
   "cell_type": "code",
   "execution_count": null,
   "id": "b69d2136-fcda-44d1-989e-5537be7c7fee",
   "metadata": {},
   "outputs": [],
   "source": []
  },
  {
   "cell_type": "code",
   "execution_count": null,
   "id": "62aaca9c-1af1-4404-87b5-57b6fde9c5f1",
   "metadata": {},
   "outputs": [],
   "source": []
  },
  {
   "cell_type": "code",
   "execution_count": null,
   "id": "17d2a88f-b88a-4a19-ada9-ac76810e503b",
   "metadata": {},
   "outputs": [],
   "source": []
  },
  {
   "cell_type": "code",
   "execution_count": null,
   "id": "26e771a8-4606-4ba0-b1d7-0e93ed5679bb",
   "metadata": {},
   "outputs": [],
   "source": []
  },
  {
   "cell_type": "code",
   "execution_count": null,
   "id": "e527279d-a603-4522-a1c4-54fa43fff3af",
   "metadata": {},
   "outputs": [],
   "source": []
  },
  {
   "cell_type": "markdown",
   "id": "62a2c845-c06b-4fbd-b88a-077bd1f75277",
   "metadata": {},
   "source": [
    "# Compare Sentiment Analysis"
   ]
  },
  {
   "cell_type": "code",
   "execution_count": null,
   "id": "2b35358d-fee3-4b8d-9c60-93ab3807a833",
   "metadata": {},
   "outputs": [],
   "source": []
  }
 ],
 "metadata": {
  "kernelspec": {
   "display_name": "Python 3 (ipykernel)",
   "language": "python",
   "name": "python3"
  },
  "language_info": {
   "codemirror_mode": {
    "name": "ipython",
    "version": 3
   },
   "file_extension": ".py",
   "mimetype": "text/x-python",
   "name": "python",
   "nbconvert_exporter": "python",
   "pygments_lexer": "ipython3",
   "version": "3.11.4"
  }
 },
 "nbformat": 4,
 "nbformat_minor": 5
}
