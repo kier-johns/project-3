{
 "cells": [
  {
   "cell_type": "markdown",
   "id": "e2bced38-b940-41f9-aa99-de02ae51e799",
   "metadata": {},
   "source": [
    "# Retrieve posts from subreddit _mentalhealth_"
   ]
  },
  {
   "cell_type": "code",
   "execution_count": 1,
   "id": "660001c3-bd9d-492e-ba06-cab6dd7616cf",
   "metadata": {
    "tags": []
   },
   "outputs": [],
   "source": [
    "import pandas as pd\n",
    "import praw"
   ]
  },
  {
   "cell_type": "code",
   "execution_count": 2,
   "id": "69bab0f5-abf5-4783-9b90-02e5eed136f3",
   "metadata": {
    "tags": []
   },
   "outputs": [],
   "source": [
    "reddit = praw.Reddit(\n",
    "    client_id='7uQzRHGAjuCO4Hj3ziVEQA',\n",
    "    client_secret='bLRtC63inLZwdMvgogDIbtLf1ZV56w',\n",
    "    user_agent='myredditapp:v1.2.3 by kier-johns',\n",
    "    username='kier-johns',\n",
    "    password=''\n",
    ")"
   ]
  },
  {
   "cell_type": "code",
   "execution_count": 3,
   "id": "44664abe-a828-4789-8ae0-1e7e90b86d2c",
   "metadata": {
    "tags": []
   },
   "outputs": [],
   "source": [
    "data = []"
   ]
  },
  {
   "cell_type": "code",
   "execution_count": 17,
   "id": "301240a3-cfa3-49d1-b137-781b898ecb58",
   "metadata": {
    "tags": []
   },
   "outputs": [],
   "source": [
    "subreddit = reddit.subreddit('mentalhealth')\n",
    "posts = subreddit.hot(limit=4500)"
   ]
  },
  {
   "cell_type": "code",
   "execution_count": 18,
   "id": "62d9b584-aa51-418f-8cab-35d2a3dff121",
   "metadata": {
    "tags": []
   },
   "outputs": [
    {
     "data": {
      "text/html": [
       "<div>\n",
       "<style scoped>\n",
       "    .dataframe tbody tr th:only-of-type {\n",
       "        vertical-align: middle;\n",
       "    }\n",
       "\n",
       "    .dataframe tbody tr th {\n",
       "        vertical-align: top;\n",
       "    }\n",
       "\n",
       "    .dataframe thead th {\n",
       "        text-align: right;\n",
       "    }\n",
       "</style>\n",
       "<table border=\"1\" class=\"dataframe\">\n",
       "  <thead>\n",
       "    <tr style=\"text-align: right;\">\n",
       "      <th></th>\n",
       "      <th>created_utc</th>\n",
       "      <th>title</th>\n",
       "      <th>self_text</th>\n",
       "      <th>subreddit</th>\n",
       "    </tr>\n",
       "  </thead>\n",
       "  <tbody>\n",
       "    <tr>\n",
       "      <th>0</th>\n",
       "      <td>1.697465e+09</td>\n",
       "      <td>I DID IT!!!</td>\n",
       "      <td>I DID IT!! I COMMUNICATED MY FEELINGS IN A HEA...</td>\n",
       "      <td>mentalhealth</td>\n",
       "    </tr>\n",
       "    <tr>\n",
       "      <th>1</th>\n",
       "      <td>1.697444e+09</td>\n",
       "      <td>Can porn be healthy?</td>\n",
       "      <td>18M here\\nSo my question is whether porn consu...</td>\n",
       "      <td>mentalhealth</td>\n",
       "    </tr>\n",
       "    <tr>\n",
       "      <th>2</th>\n",
       "      <td>1.697469e+09</td>\n",
       "      <td>what are things that get you emotionally high?</td>\n",
       "      <td>something that got me so emotionally high was ...</td>\n",
       "      <td>mentalhealth</td>\n",
       "    </tr>\n",
       "    <tr>\n",
       "      <th>3</th>\n",
       "      <td>1.697480e+09</td>\n",
       "      <td>I constantly think people dislike me or hate m...</td>\n",
       "      <td>Just the title. I see myself doing it but it's...</td>\n",
       "      <td>mentalhealth</td>\n",
       "    </tr>\n",
       "    <tr>\n",
       "      <th>4</th>\n",
       "      <td>1.697485e+09</td>\n",
       "      <td>How do you overcome depression if the environm...</td>\n",
       "      <td>I live in a small town of 42.000 people and th...</td>\n",
       "      <td>mentalhealth</td>\n",
       "    </tr>\n",
       "  </tbody>\n",
       "</table>\n",
       "</div>"
      ],
      "text/plain": [
       "    created_utc                                              title  \\\n",
       "0  1.697465e+09                                        I DID IT!!!   \n",
       "1  1.697444e+09                               Can porn be healthy?   \n",
       "2  1.697469e+09     what are things that get you emotionally high?   \n",
       "3  1.697480e+09  I constantly think people dislike me or hate m...   \n",
       "4  1.697485e+09  How do you overcome depression if the environm...   \n",
       "\n",
       "                                           self_text     subreddit  \n",
       "0  I DID IT!! I COMMUNICATED MY FEELINGS IN A HEA...  mentalhealth  \n",
       "1  18M here\\nSo my question is whether porn consu...  mentalhealth  \n",
       "2  something that got me so emotionally high was ...  mentalhealth  \n",
       "3  Just the title. I see myself doing it but it's...  mentalhealth  \n",
       "4  I live in a small town of 42.000 people and th...  mentalhealth  "
      ]
     },
     "execution_count": 18,
     "metadata": {},
     "output_type": "execute_result"
    }
   ],
   "source": [
    "for post in posts:\n",
    "    data.append([post.created_utc, post.title, post.selftext, post.subreddit])\n",
    "\n",
    "mentalhealth = pd.DataFrame(data, columns = ['created_utc', 'title', 'self_text', 'subreddit'])\n",
    "mentalhealth.head()"
   ]
  },
  {
   "cell_type": "code",
   "execution_count": 19,
   "id": "2bc0efd6-2c80-4589-877f-f618d205615b",
   "metadata": {
    "tags": []
   },
   "outputs": [
    {
     "data": {
      "text/plain": [
       "(4985, 4)"
      ]
     },
     "execution_count": 19,
     "metadata": {},
     "output_type": "execute_result"
    }
   ],
   "source": [
    "mentalhealth.shape"
   ]
  },
  {
   "cell_type": "code",
   "execution_count": 20,
   "id": "33448054-5c70-4d6e-b847-2e8e16b7dfef",
   "metadata": {
    "tags": []
   },
   "outputs": [
    {
     "data": {
      "text/plain": [
       "created_utc    0\n",
       "title          0\n",
       "self_text      0\n",
       "subreddit      0\n",
       "dtype: int64"
      ]
     },
     "execution_count": 20,
     "metadata": {},
     "output_type": "execute_result"
    }
   ],
   "source": [
    "mentalhealth.isna().sum()"
   ]
  },
  {
   "cell_type": "code",
   "execution_count": 21,
   "id": "4bcc795f-a811-4aca-b6f2-34b58cc33762",
   "metadata": {
    "tags": []
   },
   "outputs": [],
   "source": [
    "mentalhealth.to_csv('mentalhealth_posts.csv', index=False)"
   ]
  },
  {
   "cell_type": "code",
   "execution_count": null,
   "id": "1ef56987-4054-4385-ac0d-64709827020a",
   "metadata": {},
   "outputs": [],
   "source": []
  }
 ],
 "metadata": {
  "kernelspec": {
   "display_name": "Python 3 (ipykernel)",
   "language": "python",
   "name": "python3"
  },
  "language_info": {
   "codemirror_mode": {
    "name": "ipython",
    "version": 3
   },
   "file_extension": ".py",
   "mimetype": "text/x-python",
   "name": "python",
   "nbconvert_exporter": "python",
   "pygments_lexer": "ipython3",
   "version": "3.11.4"
  }
 },
 "nbformat": 4,
 "nbformat_minor": 5
}
